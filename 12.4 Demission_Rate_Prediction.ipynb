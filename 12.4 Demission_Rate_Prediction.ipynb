{
 "nbformat": 4,
 "nbformat_minor": 2,
 "metadata": {
  "language_info": {
   "name": "python",
   "codemirror_mode": {
    "name": "ipython",
    "version": 3
   },
   "version": "3.6.7-final"
  },
  "orig_nbformat": 2,
  "file_extension": ".py",
  "mimetype": "text/x-python",
  "name": "python",
  "npconvert_exporter": "python",
  "pygments_lexer": "ipython3",
  "version": 3,
  "kernelspec": {
   "name": "python36764bittensorflowconda7b2aaa6a1c344b04982f99c98a94bf0c",
   "display_name": "Python 3.6.7 64-bit ('tensorflow': conda)"
  }
 },
 "cells": [
  {
   "cell_type": "code",
   "execution_count": 1,
   "metadata": {},
   "outputs": [],
   "source": [
    "import pandas as pd \n",
    "import numpy as np \n",
    "import matplotlib.pyplot as plt \n",
    "import matplotlib as matplot \n",
    "%matplotlib inline\n",
    "from sklearn.model_selection import train_test_split "
   ]
  },
  {
   "cell_type": "code",
   "execution_count": 4,
   "metadata": {},
   "outputs": [
    {
     "name": "stdout",
     "output_type": "stream",
     "text": "satisfaction_level       False\nlast_evaluation          False\nnumber_project           False\naverage_montly_hours     False\ntime_spend_company       False\nWork_accident            False\nleft                     False\npromotion_last_5years    False\nsales                    False\nsalary                   False\ndtype: bool \n\n\n"
    }
   ],
   "source": [
    "df = pd.read_csv('C:/Users/Windows10/Desktop/大二.5下/Python ML Project/项目数据/RGZNXLY/RGZNXLY/ch12/HR_comma_sep.csv')\n",
    "print(df.isnull().any(), \"\\n\\n\")  # 检测数据是否有缺失"
   ]
  },
  {
   "cell_type": "code",
   "execution_count": 8,
   "metadata": {},
   "outputs": [
    {
     "data": {
      "text/html": "<div>\n<style scoped>\n    .dataframe tbody tr th:only-of-type {\n        vertical-align: middle;\n    }\n\n    .dataframe tbody tr th {\n        vertical-align: top;\n    }\n\n    .dataframe thead th {\n        text-align: right;\n    }\n</style>\n<table border=\"1\" class=\"dataframe\">\n  <thead>\n    <tr style=\"text-align: right;\">\n      <th></th>\n      <th>satisfaction_level</th>\n      <th>last_evaluation</th>\n      <th>number_project</th>\n      <th>average_montly_hours</th>\n      <th>time_spend_company</th>\n      <th>Work_accident</th>\n      <th>left</th>\n      <th>promotion_last_5years</th>\n      <th>sales</th>\n      <th>salary</th>\n    </tr>\n  </thead>\n  <tbody>\n    <tr>\n      <td>0</td>\n      <td>0.38</td>\n      <td>0.53</td>\n      <td>2</td>\n      <td>157</td>\n      <td>3</td>\n      <td>0</td>\n      <td>1</td>\n      <td>0</td>\n      <td>sales</td>\n      <td>low</td>\n    </tr>\n    <tr>\n      <td>1</td>\n      <td>0.80</td>\n      <td>0.86</td>\n      <td>5</td>\n      <td>262</td>\n      <td>6</td>\n      <td>0</td>\n      <td>1</td>\n      <td>0</td>\n      <td>sales</td>\n      <td>medium</td>\n    </tr>\n    <tr>\n      <td>2</td>\n      <td>0.11</td>\n      <td>0.88</td>\n      <td>7</td>\n      <td>272</td>\n      <td>4</td>\n      <td>0</td>\n      <td>1</td>\n      <td>0</td>\n      <td>sales</td>\n      <td>medium</td>\n    </tr>\n    <tr>\n      <td>3</td>\n      <td>0.72</td>\n      <td>0.87</td>\n      <td>5</td>\n      <td>223</td>\n      <td>5</td>\n      <td>0</td>\n      <td>1</td>\n      <td>0</td>\n      <td>sales</td>\n      <td>low</td>\n    </tr>\n    <tr>\n      <td>4</td>\n      <td>0.37</td>\n      <td>0.52</td>\n      <td>2</td>\n      <td>159</td>\n      <td>3</td>\n      <td>0</td>\n      <td>1</td>\n      <td>0</td>\n      <td>sales</td>\n      <td>low</td>\n    </tr>\n  </tbody>\n</table>\n</div>",
      "text/plain": "   satisfaction_level  last_evaluation  number_project  average_montly_hours  \\\n0                0.38             0.53               2                   157   \n1                0.80             0.86               5                   262   \n2                0.11             0.88               7                   272   \n3                0.72             0.87               5                   223   \n4                0.37             0.52               2                   159   \n\n   time_spend_company  Work_accident  left  promotion_last_5years  sales  \\\n0                   3              0     1                      0  sales   \n1                   6              0     1                      0  sales   \n2                   4              0     1                      0  sales   \n3                   5              0     1                      0  sales   \n4                   3              0     1                      0  sales   \n\n   salary  \n0     low  \n1  medium  \n2  medium  \n3     low  \n4     low  "
     },
     "execution_count": 8,
     "metadata": {},
     "output_type": "execute_result"
    }
   ],
   "source": [
    "df.head()"
   ]
  },
  {
   "cell_type": "code",
   "execution_count": 9,
   "metadata": {},
   "outputs": [],
   "source": [
    "# 列重命名\n",
    "df = df.rename(columns={'satisfaction_level': \"satisfaction\", 'last_evaluation': 'evaluation', 'number_project': 'projectCount', 'average_montly_hours': 'averageMonthlyHours', 'time_spend_company': 'yearaAtCompany', 'Work_accident': 'workAccident', 'promotion_last_5years': 'promotion', 'sales': 'department', 'left': 'turnover'})"
   ]
  },
  {
   "cell_type": "code",
   "execution_count": 12,
   "metadata": {},
   "outputs": [
    {
     "data": {
      "text/html": "<div>\n<style scoped>\n    .dataframe tbody tr th:only-of-type {\n        vertical-align: middle;\n    }\n\n    .dataframe tbody tr th {\n        vertical-align: top;\n    }\n\n    .dataframe thead th {\n        text-align: right;\n    }\n</style>\n<table border=\"1\" class=\"dataframe\">\n  <thead>\n    <tr style=\"text-align: right;\">\n      <th></th>\n      <th>turnover</th>\n      <th>satisfaction</th>\n      <th>evaluation</th>\n      <th>projectCount</th>\n      <th>averageMonthlyHours</th>\n      <th>yearaAtCompany</th>\n      <th>workAccident</th>\n      <th>promotion</th>\n      <th>department</th>\n      <th>salary</th>\n    </tr>\n  </thead>\n  <tbody>\n    <tr>\n      <td>0</td>\n      <td>1</td>\n      <td>0.38</td>\n      <td>0.53</td>\n      <td>2</td>\n      <td>157</td>\n      <td>3</td>\n      <td>0</td>\n      <td>0</td>\n      <td>sales</td>\n      <td>low</td>\n    </tr>\n    <tr>\n      <td>1</td>\n      <td>1</td>\n      <td>0.80</td>\n      <td>0.86</td>\n      <td>5</td>\n      <td>262</td>\n      <td>6</td>\n      <td>0</td>\n      <td>0</td>\n      <td>sales</td>\n      <td>medium</td>\n    </tr>\n    <tr>\n      <td>2</td>\n      <td>1</td>\n      <td>0.11</td>\n      <td>0.88</td>\n      <td>7</td>\n      <td>272</td>\n      <td>4</td>\n      <td>0</td>\n      <td>0</td>\n      <td>sales</td>\n      <td>medium</td>\n    </tr>\n    <tr>\n      <td>3</td>\n      <td>1</td>\n      <td>0.72</td>\n      <td>0.87</td>\n      <td>5</td>\n      <td>223</td>\n      <td>5</td>\n      <td>0</td>\n      <td>0</td>\n      <td>sales</td>\n      <td>low</td>\n    </tr>\n    <tr>\n      <td>4</td>\n      <td>1</td>\n      <td>0.37</td>\n      <td>0.52</td>\n      <td>2</td>\n      <td>159</td>\n      <td>3</td>\n      <td>0</td>\n      <td>0</td>\n      <td>sales</td>\n      <td>low</td>\n    </tr>\n  </tbody>\n</table>\n</div>",
      "text/plain": "   turnover  satisfaction  evaluation  projectCount  averageMonthlyHours  \\\n0         1          0.38        0.53             2                  157   \n1         1          0.80        0.86             5                  262   \n2         1          0.11        0.88             7                  272   \n3         1          0.72        0.87             5                  223   \n4         1          0.37        0.52             2                  159   \n\n   yearaAtCompany  workAccident  promotion department  salary  \n0               3             0          0      sales     low  \n1               6             0          0      sales  medium  \n2               4             0          0      sales  medium  \n3               5             0          0      sales     low  \n4               3             0          0      sales     low  "
     },
     "execution_count": 12,
     "metadata": {},
     "output_type": "execute_result"
    }
   ],
   "source": [
    "front = df['turnover']\n",
    "df.drop(labels=['turnover'], axis=1, inplace=True) #删除原始列\n",
    "df.insert(0, 'turnover', front) #加入front列， 0为列号\n",
    "df.head()"
   ]
  },
  {
   "cell_type": "code",
   "execution_count": 16,
   "metadata": {},
   "outputs": [
    {
     "name": "stdout",
     "output_type": "stream",
     "text": "Demission rate: 0.800\n"
    }
   ],
   "source": [
    "# 验证正负样本平衡度\n",
    "turnover_rate = df.turnover.value_counts()/len(df) # value_counts返回0和1数量\n",
    "print(\"Demission rate: %.3f\"% turnover_rate[0])"
   ]
  },
  {
   "cell_type": "code",
   "execution_count": 17,
   "metadata": {},
   "outputs": [
    {
     "data": {
      "text/html": "<div>\n<style scoped>\n    .dataframe tbody tr th:only-of-type {\n        vertical-align: middle;\n    }\n\n    .dataframe tbody tr th {\n        vertical-align: top;\n    }\n\n    .dataframe thead th {\n        text-align: right;\n    }\n</style>\n<table border=\"1\" class=\"dataframe\">\n  <thead>\n    <tr style=\"text-align: right;\">\n      <th></th>\n      <th>turnover</th>\n      <th>satisfaction</th>\n      <th>evaluation</th>\n      <th>projectCount</th>\n      <th>averageMonthlyHours</th>\n      <th>yearaAtCompany</th>\n      <th>workAccident</th>\n      <th>promotion</th>\n    </tr>\n  </thead>\n  <tbody>\n    <tr>\n      <td>count</td>\n      <td>12504.000000</td>\n      <td>12504.000000</td>\n      <td>12504.000000</td>\n      <td>12504.000000</td>\n      <td>12504.000000</td>\n      <td>12504.000000</td>\n      <td>12504.000000</td>\n      <td>12504.000000</td>\n    </tr>\n    <tr>\n      <td>mean</td>\n      <td>0.200256</td>\n      <td>0.621834</td>\n      <td>0.716446</td>\n      <td>3.803503</td>\n      <td>200.721769</td>\n      <td>3.385717</td>\n      <td>0.149472</td>\n      <td>0.016555</td>\n    </tr>\n    <tr>\n      <td>std</td>\n      <td>0.400208</td>\n      <td>0.245010</td>\n      <td>0.169745</td>\n      <td>1.196592</td>\n      <td>49.341169</td>\n      <td>1.321437</td>\n      <td>0.356568</td>\n      <td>0.127601</td>\n    </tr>\n    <tr>\n      <td>min</td>\n      <td>0.000000</td>\n      <td>0.090000</td>\n      <td>0.360000</td>\n      <td>2.000000</td>\n      <td>96.000000</td>\n      <td>2.000000</td>\n      <td>0.000000</td>\n      <td>0.000000</td>\n    </tr>\n    <tr>\n      <td>25%</td>\n      <td>0.000000</td>\n      <td>0.450000</td>\n      <td>0.560000</td>\n      <td>3.000000</td>\n      <td>157.000000</td>\n      <td>3.000000</td>\n      <td>0.000000</td>\n      <td>0.000000</td>\n    </tr>\n    <tr>\n      <td>50%</td>\n      <td>0.000000</td>\n      <td>0.650000</td>\n      <td>0.720000</td>\n      <td>4.000000</td>\n      <td>200.000000</td>\n      <td>3.000000</td>\n      <td>0.000000</td>\n      <td>0.000000</td>\n    </tr>\n    <tr>\n      <td>75%</td>\n      <td>0.000000</td>\n      <td>0.820000</td>\n      <td>0.870000</td>\n      <td>5.000000</td>\n      <td>244.000000</td>\n      <td>4.000000</td>\n      <td>0.000000</td>\n      <td>0.000000</td>\n    </tr>\n    <tr>\n      <td>max</td>\n      <td>1.000000</td>\n      <td>1.000000</td>\n      <td>1.000000</td>\n      <td>7.000000</td>\n      <td>310.000000</td>\n      <td>10.000000</td>\n      <td>1.000000</td>\n      <td>1.000000</td>\n    </tr>\n  </tbody>\n</table>\n</div>",
      "text/plain": "           turnover  satisfaction    evaluation  projectCount  \\\ncount  12504.000000  12504.000000  12504.000000  12504.000000   \nmean       0.200256      0.621834      0.716446      3.803503   \nstd        0.400208      0.245010      0.169745      1.196592   \nmin        0.000000      0.090000      0.360000      2.000000   \n25%        0.000000      0.450000      0.560000      3.000000   \n50%        0.000000      0.650000      0.720000      4.000000   \n75%        0.000000      0.820000      0.870000      5.000000   \nmax        1.000000      1.000000      1.000000      7.000000   \n\n       averageMonthlyHours  yearaAtCompany  workAccident     promotion  \ncount         12504.000000    12504.000000  12504.000000  12504.000000  \nmean            200.721769        3.385717      0.149472      0.016555  \nstd              49.341169        1.321437      0.356568      0.127601  \nmin              96.000000        2.000000      0.000000      0.000000  \n25%             157.000000        3.000000      0.000000      0.000000  \n50%             200.000000        3.000000      0.000000      0.000000  \n75%             244.000000        4.000000      0.000000      0.000000  \nmax             310.000000       10.000000      1.000000      1.000000  "
     },
     "execution_count": 17,
     "metadata": {},
     "output_type": "execute_result"
    }
   ],
   "source": [
    "df.describe()"
   ]
  },
  {
   "cell_type": "code",
   "execution_count": 18,
   "metadata": {},
   "outputs": [],
   "source": [
    "# cat.codes对字符型进行整型的编码\n",
    "df[\"department\"] = df[\"department\"].astype('category').cat.codes\n",
    "df[\"salary\"] = df[\"salary\"].astype('category').cat.codes"
   ]
  },
  {
   "cell_type": "code",
   "execution_count": 20,
   "metadata": {},
   "outputs": [
    {
     "data": {
      "text/html": "<div>\n<style scoped>\n    .dataframe tbody tr th:only-of-type {\n        vertical-align: middle;\n    }\n\n    .dataframe tbody tr th {\n        vertical-align: top;\n    }\n\n    .dataframe thead th {\n        text-align: right;\n    }\n</style>\n<table border=\"1\" class=\"dataframe\">\n  <thead>\n    <tr style=\"text-align: right;\">\n      <th></th>\n      <th>turnover</th>\n      <th>satisfaction</th>\n      <th>evaluation</th>\n      <th>projectCount</th>\n      <th>averageMonthlyHours</th>\n      <th>yearaAtCompany</th>\n      <th>workAccident</th>\n      <th>promotion</th>\n      <th>department</th>\n      <th>salary</th>\n    </tr>\n  </thead>\n  <tbody>\n    <tr>\n      <td>0</td>\n      <td>1</td>\n      <td>0.38</td>\n      <td>0.53</td>\n      <td>2</td>\n      <td>157</td>\n      <td>3</td>\n      <td>0</td>\n      <td>0</td>\n      <td>7</td>\n      <td>1</td>\n    </tr>\n    <tr>\n      <td>1</td>\n      <td>1</td>\n      <td>0.80</td>\n      <td>0.86</td>\n      <td>5</td>\n      <td>262</td>\n      <td>6</td>\n      <td>0</td>\n      <td>0</td>\n      <td>7</td>\n      <td>2</td>\n    </tr>\n    <tr>\n      <td>2</td>\n      <td>1</td>\n      <td>0.11</td>\n      <td>0.88</td>\n      <td>7</td>\n      <td>272</td>\n      <td>4</td>\n      <td>0</td>\n      <td>0</td>\n      <td>7</td>\n      <td>2</td>\n    </tr>\n    <tr>\n      <td>3</td>\n      <td>1</td>\n      <td>0.72</td>\n      <td>0.87</td>\n      <td>5</td>\n      <td>223</td>\n      <td>5</td>\n      <td>0</td>\n      <td>0</td>\n      <td>7</td>\n      <td>1</td>\n    </tr>\n    <tr>\n      <td>4</td>\n      <td>1</td>\n      <td>0.37</td>\n      <td>0.52</td>\n      <td>2</td>\n      <td>159</td>\n      <td>3</td>\n      <td>0</td>\n      <td>0</td>\n      <td>7</td>\n      <td>1</td>\n    </tr>\n  </tbody>\n</table>\n</div>",
      "text/plain": "   turnover  satisfaction  evaluation  projectCount  averageMonthlyHours  \\\n0         1          0.38        0.53             2                  157   \n1         1          0.80        0.86             5                  262   \n2         1          0.11        0.88             7                  272   \n3         1          0.72        0.87             5                  223   \n4         1          0.37        0.52             2                  159   \n\n   yearaAtCompany  workAccident  promotion  department  salary  \n0               3             0          0           7       1  \n1               6             0          0           7       2  \n2               4             0          0           7       2  \n3               5             0          0           7       1  \n4               3             0          0           7       1  "
     },
     "execution_count": 20,
     "metadata": {},
     "output_type": "execute_result"
    }
   ],
   "source": [
    "df.head()"
   ]
  },
  {
   "cell_type": "code",
   "execution_count": 21,
   "metadata": {},
   "outputs": [],
   "source": [
    "target_name = 'turnover'\n",
    "X = df.drop('turnover', axis = 1)\n",
    "y = df[target_name]\n",
    "# stratify分层采样列\n",
    "X_train, X_test, y_train, y_test = train_test_split(X, y, test_size=0.15, random_state=42, stratify=y)"
   ]
  },
  {
   "cell_type": "code",
   "execution_count": 22,
   "metadata": {},
   "outputs": [],
   "source": [
    "from sklearn.metrics import classification_report\n",
    "from sklearn.ensemble import RandomForestClassifier\n",
    "from sklearn.tree import DecisionTreeClassifier"
   ]
  },
  {
   "cell_type": "code",
   "execution_count": 24,
   "metadata": {},
   "outputs": [
    {
     "name": "stdout",
     "output_type": "stream",
     "text": "precision    recall  f1-score   support\n\n           0       0.98      0.96      0.97      1500\n           1       0.86      0.92      0.89       376\n\n   micro avg       0.95      0.95      0.95      1876\n   macro avg       0.92      0.94      0.93      1876\nweighted avg       0.96      0.95      0.96      1876\n\n"
    }
   ],
   "source": [
    "# 训练决策树,生成classification_report\n",
    "dtree = DecisionTreeClassifier(criterion='entropy', max_depth=3, min_weight_fraction_leaf=0.01)\n",
    "dtree = dtree.fit(X_train, y_train)\n",
    "print(classification_report(y_test, dtree.predict(X_test)))"
   ]
  },
  {
   "cell_type": "code",
   "execution_count": 27,
   "metadata": {},
   "outputs": [
    {
     "name": "stdout",
     "output_type": "stream",
     "text": "precision    recall  f1-score   support\n\n           0       0.98      1.00      0.99      1500\n           1       0.99      0.92      0.96       376\n\n   micro avg       0.98      0.98      0.98      1876\n   macro avg       0.99      0.96      0.97      1876\nweighted avg       0.98      0.98      0.98      1876\n\n"
    }
   ],
   "source": [
    "# 随机森林\n",
    "rf = RandomForestClassifier(criterion='entropy', n_estimators=1000, max_depth=None, min_samples_split=10)\n",
    "rf.fit(X_train, y_train)\n",
    "print(classification_report(y_test, rf.predict(X_test)))"
   ]
  },
  {
   "cell_type": "code",
   "execution_count": null,
   "metadata": {},
   "outputs": [],
   "source": []
  }
 ]
}