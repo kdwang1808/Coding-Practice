{
 "nbformat": 4,
 "nbformat_minor": 2,
 "metadata": {
  "language_info": {
   "name": "python",
   "codemirror_mode": {
    "name": "ipython",
    "version": 3
   },
   "version": "3.6.7-final"
  },
  "orig_nbformat": 2,
  "file_extension": ".py",
  "mimetype": "text/x-python",
  "name": "python",
  "npconvert_exporter": "python",
  "pygments_lexer": "ipython3",
  "version": 3,
  "kernelspec": {
   "name": "python36764bittensorflowconda7b2aaa6a1c344b04982f99c98a94bf0c",
   "display_name": "Python 3.6.7 64-bit ('tensorflow': conda)"
  }
 },
 "cells": [
  {
   "cell_type": "code",
   "execution_count": 1,
   "metadata": {},
   "outputs": [
    {
     "data": {
      "text/html": "<div>\n<style scoped>\n    .dataframe tbody tr th:only-of-type {\n        vertical-align: middle;\n    }\n\n    .dataframe tbody tr th {\n        vertical-align: top;\n    }\n\n    .dataframe thead th {\n        text-align: right;\n    }\n</style>\n<table border=\"1\" class=\"dataframe\">\n  <thead>\n    <tr style=\"text-align: right;\">\n      <th></th>\n      <th>open</th>\n      <th>high</th>\n      <th>close</th>\n      <th>low</th>\n      <th>volume</th>\n      <th>price_change</th>\n      <th>p_change</th>\n      <th>ma5</th>\n      <th>ma10</th>\n      <th>ma20</th>\n      <th>v_ma5</th>\n      <th>v_ma10</th>\n      <th>v_ma20</th>\n    </tr>\n    <tr>\n      <th>date</th>\n      <th></th>\n      <th></th>\n      <th></th>\n      <th></th>\n      <th></th>\n      <th></th>\n      <th></th>\n      <th></th>\n      <th></th>\n      <th></th>\n      <th></th>\n      <th></th>\n      <th></th>\n    </tr>\n  </thead>\n  <tbody>\n    <tr>\n      <td>2020-01-23</td>\n      <td>23.30</td>\n      <td>24.68</td>\n      <td>24.68</td>\n      <td>23.00</td>\n      <td>814744.88</td>\n      <td>2.24</td>\n      <td>9.98</td>\n      <td>21.498</td>\n      <td>20.238</td>\n      <td>19.050</td>\n      <td>563727.79</td>\n      <td>545649.34</td>\n      <td>541451.20</td>\n    </tr>\n    <tr>\n      <td>2020-01-22</td>\n      <td>19.94</td>\n      <td>22.44</td>\n      <td>22.44</td>\n      <td>19.86</td>\n      <td>491546.56</td>\n      <td>2.04</td>\n      <td>10.00</td>\n      <td>20.482</td>\n      <td>19.594</td>\n      <td>18.695</td>\n      <td>522584.88</td>\n      <td>501671.05</td>\n      <td>528094.60</td>\n    </tr>\n    <tr>\n      <td>2020-01-21</td>\n      <td>20.01</td>\n      <td>21.01</td>\n      <td>20.40</td>\n      <td>19.92</td>\n      <td>476824.16</td>\n      <td>-0.07</td>\n      <td>-0.34</td>\n      <td>19.812</td>\n      <td>19.135</td>\n      <td>18.396</td>\n      <td>530512.59</td>\n      <td>505287.74</td>\n      <td>525267.65</td>\n    </tr>\n    <tr>\n      <td>2020-01-20</td>\n      <td>19.01</td>\n      <td>20.47</td>\n      <td>20.47</td>\n      <td>18.88</td>\n      <td>510348.31</td>\n      <td>0.97</td>\n      <td>4.97</td>\n      <td>19.446</td>\n      <td>18.989</td>\n      <td>18.155</td>\n      <td>518354.88</td>\n      <td>526594.53</td>\n      <td>528612.15</td>\n    </tr>\n    <tr>\n      <td>2020-01-17</td>\n      <td>20.00</td>\n      <td>20.27</td>\n      <td>19.50</td>\n      <td>19.20</td>\n      <td>525175.06</td>\n      <td>-0.10</td>\n      <td>-0.51</td>\n      <td>19.144</td>\n      <td>18.893</td>\n      <td>17.966</td>\n      <td>522971.90</td>\n      <td>541159.97</td>\n      <td>521751.09</td>\n    </tr>\n    <tr>\n      <td>...</td>\n      <td>...</td>\n      <td>...</td>\n      <td>...</td>\n      <td>...</td>\n      <td>...</td>\n      <td>...</td>\n      <td>...</td>\n      <td>...</td>\n      <td>...</td>\n      <td>...</td>\n      <td>...</td>\n      <td>...</td>\n      <td>...</td>\n    </tr>\n    <tr>\n      <td>2017-07-31</td>\n      <td>9.34</td>\n      <td>9.42</td>\n      <td>9.38</td>\n      <td>9.28</td>\n      <td>49943.51</td>\n      <td>0.04</td>\n      <td>0.43</td>\n      <td>9.366</td>\n      <td>9.366</td>\n      <td>9.366</td>\n      <td>63189.32</td>\n      <td>63189.32</td>\n      <td>63189.32</td>\n    </tr>\n    <tr>\n      <td>2017-07-28</td>\n      <td>9.48</td>\n      <td>9.49</td>\n      <td>9.34</td>\n      <td>9.33</td>\n      <td>65576.51</td>\n      <td>-0.15</td>\n      <td>-1.58</td>\n      <td>9.363</td>\n      <td>9.363</td>\n      <td>9.363</td>\n      <td>66500.78</td>\n      <td>66500.78</td>\n      <td>66500.78</td>\n    </tr>\n    <tr>\n      <td>2017-07-27</td>\n      <td>9.30</td>\n      <td>9.51</td>\n      <td>9.49</td>\n      <td>9.21</td>\n      <td>125241.52</td>\n      <td>0.19</td>\n      <td>2.04</td>\n      <td>9.370</td>\n      <td>9.370</td>\n      <td>9.370</td>\n      <td>66808.86</td>\n      <td>66808.86</td>\n      <td>66808.86</td>\n    </tr>\n    <tr>\n      <td>2017-07-26</td>\n      <td>9.32</td>\n      <td>9.40</td>\n      <td>9.30</td>\n      <td>9.25</td>\n      <td>41018.95</td>\n      <td>-0.02</td>\n      <td>-0.21</td>\n      <td>9.310</td>\n      <td>9.310</td>\n      <td>9.310</td>\n      <td>37592.54</td>\n      <td>37592.54</td>\n      <td>37592.54</td>\n    </tr>\n    <tr>\n      <td>2017-07-25</td>\n      <td>9.38</td>\n      <td>9.42</td>\n      <td>9.32</td>\n      <td>9.26</td>\n      <td>34166.12</td>\n      <td>-0.07</td>\n      <td>-0.74</td>\n      <td>9.320</td>\n      <td>9.320</td>\n      <td>9.320</td>\n      <td>34166.12</td>\n      <td>34166.12</td>\n      <td>34166.12</td>\n    </tr>\n  </tbody>\n</table>\n<p>612 rows × 13 columns</p>\n</div>",
      "text/plain": "             open   high  close    low     volume  price_change  p_change  \\\ndate                                                                        \n2020-01-23  23.30  24.68  24.68  23.00  814744.88          2.24      9.98   \n2020-01-22  19.94  22.44  22.44  19.86  491546.56          2.04     10.00   \n2020-01-21  20.01  21.01  20.40  19.92  476824.16         -0.07     -0.34   \n2020-01-20  19.01  20.47  20.47  18.88  510348.31          0.97      4.97   \n2020-01-17  20.00  20.27  19.50  19.20  525175.06         -0.10     -0.51   \n...           ...    ...    ...    ...        ...           ...       ...   \n2017-07-31   9.34   9.42   9.38   9.28   49943.51          0.04      0.43   \n2017-07-28   9.48   9.49   9.34   9.33   65576.51         -0.15     -1.58   \n2017-07-27   9.30   9.51   9.49   9.21  125241.52          0.19      2.04   \n2017-07-26   9.32   9.40   9.30   9.25   41018.95         -0.02     -0.21   \n2017-07-25   9.38   9.42   9.32   9.26   34166.12         -0.07     -0.74   \n\n               ma5    ma10    ma20      v_ma5     v_ma10     v_ma20  \ndate                                                                 \n2020-01-23  21.498  20.238  19.050  563727.79  545649.34  541451.20  \n2020-01-22  20.482  19.594  18.695  522584.88  501671.05  528094.60  \n2020-01-21  19.812  19.135  18.396  530512.59  505287.74  525267.65  \n2020-01-20  19.446  18.989  18.155  518354.88  526594.53  528612.15  \n2020-01-17  19.144  18.893  17.966  522971.90  541159.97  521751.09  \n...            ...     ...     ...        ...        ...        ...  \n2017-07-31   9.366   9.366   9.366   63189.32   63189.32   63189.32  \n2017-07-28   9.363   9.363   9.363   66500.78   66500.78   66500.78  \n2017-07-27   9.370   9.370   9.370   66808.86   66808.86   66808.86  \n2017-07-26   9.310   9.310   9.310   37592.54   37592.54   37592.54  \n2017-07-25   9.320   9.320   9.320   34166.12   34166.12   34166.12  \n\n[612 rows x 13 columns]"
     },
     "execution_count": 1,
     "metadata": {},
     "output_type": "execute_result"
    }
   ],
   "source": [
    "import tushare as ts\n",
    "ts.get_hist_data('002156') #一次性获取全部日k线数据"
   ]
  },
  {
   "cell_type": "code",
   "execution_count": null,
   "metadata": {},
   "outputs": [],
   "source": []
  }
 ]
}