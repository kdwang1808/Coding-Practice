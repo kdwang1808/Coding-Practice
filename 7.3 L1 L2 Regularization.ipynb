{
 "cells": [
  {
   "cell_type": "code",
   "execution_count": 1,
   "metadata": {},
   "outputs": [],
   "source": [
    "import numpy as np\n",
    "\n",
    "# numpy.random.rand(size)  0,1之间\n",
    "# numpy.random.randn(size)  标准正态分布\n",
    "# numpy.random.choice(a, size=None, replace=True, p=None) p为概率，从给定的一维数组中生成随机数，a为整数时，对应的一维数组为np.arange(a)\n",
    "np.random.seed(12)\n",
    "num_observations = 100\n",
    "rand_m = np.random.rand(20, 20)\n",
    "\n",
    "# 协方差矩阵必须为半正定矩阵（如果A的特征值为a，可知A'*A的特征值为a的平方）\n",
    "cov = np.matmul(rand_m.T, rand_m)"
   ]
  },
  {
   "cell_type": "code",
   "execution_count": 2,
   "metadata": {},
   "outputs": [],
   "source": [
    "# np.random.multivariate_normal(mean, cov, size=None, check_valid=None, tol=None) 方法用于根据实际情况生成一个多元正态分布矩阵\n",
    "X1 = np.random.multivariate_normal(np.random.rand(20), cov, num_observations)\n",
    "X2 = np.random.multivariate_normal(np.random.rand(20)+5, cov, num_observations)"
   ]
  },
  {
   "cell_type": "code",
   "execution_count": 3,
   "metadata": {},
   "outputs": [],
   "source": [
    "# np.vstack:按垂直方向（行顺序）堆叠数组构成一个新的数组, np.hstack:按水平方向（列顺序）堆叠数组构成一个新的数组\n",
    "X = np.vstack((X1, X2)).astype(np.float32)\n",
    "y = np.hstack((np.zeros(num_observations), np.ones(num_observations)))"
   ]
  },
  {
   "cell_type": "code",
   "execution_count": 4,
   "metadata": {},
   "outputs": [
    {
     "name": "stdout",
     "output_type": "stream",
     "text": [
      "[[ 0.          0.          0.00380416  0.          0.0708005  -0.29471144\n",
      "   0.         -0.34068405  0.          0.78465456  0.          0.10128216\n",
      "   0.          0.          0.         -0.04115284  0.          0.\n",
      "   0.41517583  0.        ]]\n",
      "[[-0.06020774 -0.08587293  0.06269959  0.0218838   0.36622515 -0.45899841\n",
      "   0.11456309 -0.44218794 -0.24780618  0.87767764 -0.32403048  0.27800343\n",
      "   0.34313572  0.16393398 -0.14322159 -0.22759078  0.09331433 -0.22950935\n",
      "   0.48553032  0.1213868 ]]\n"
     ]
    }
   ],
   "source": [
    "from sklearn.linear_model import LogisticRegression\n",
    "\n",
    "# 参数W ：clf.coef_\n",
    "clf = LogisticRegression(fit_intercept = True, C=0.1, penalty = 'l1', solver = 'liblinear')\n",
    "clf.fit(X, y)\n",
    "print(clf.coef_)\n",
    "\n",
    "clf = LogisticRegression(fit_intercept = True, C=0.1, penalty = 'l2', solver = 'liblinear')\n",
    "clf.fit(X, y)\n",
    "print(clf.coef_)"
   ]
  },
  {
   "cell_type": "code",
   "execution_count": 5,
   "metadata": {},
   "outputs": [
    {
     "data": {
      "text/plain": [
       "(200, 20)"
      ]
     },
     "execution_count": 5,
     "metadata": {},
     "output_type": "execute_result"
    }
   ],
   "source": [
    "X.shape"
   ]
  },
  {
   "cell_type": "code",
   "execution_count": 6,
   "metadata": {},
   "outputs": [
    {
     "data": {
      "text/plain": [
       "(200,)"
      ]
     },
     "execution_count": 6,
     "metadata": {},
     "output_type": "execute_result"
    }
   ],
   "source": [
    "np.hstack((np.zeros(num_observations), np.ones(num_observations))).shape"
   ]
  },
  {
   "cell_type": "code",
   "execution_count": 7,
   "metadata": {},
   "outputs": [
    {
     "data": {
      "text/plain": [
       "array([0., 0., 0., 0., 0.])"
      ]
     },
     "execution_count": 7,
     "metadata": {},
     "output_type": "execute_result"
    }
   ],
   "source": [
    "np.zeros(5)"
   ]
  }
 ],
 "metadata": {
  "kernelspec": {
   "display_name": "Python 3",
   "language": "python",
   "name": "python3"
  },
  "language_info": {
   "codemirror_mode": {
    "name": "ipython",
    "version": 3
   },
   "file_extension": ".py",
   "mimetype": "text/x-python",
   "name": "python",
   "nbconvert_exporter": "python",
   "pygments_lexer": "ipython3",
   "version": "3.6.7"
  }
 },
 "nbformat": 4,
 "nbformat_minor": 2
}
