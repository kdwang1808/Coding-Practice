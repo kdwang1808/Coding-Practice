{
 "cells": [
  {
   "cell_type": "code",
   "execution_count": 0,
   "metadata": {
    "colab": {
     "base_uri": "https://localhost:8080/",
     "height": 317
    },
    "colab_type": "code",
    "id": "AeNTHtaSdJpK",
    "outputId": "9503f96c-8364-446e-a915-c40c33286c8b"
   },
   "outputs": [
    {
     "name": "stdout",
     "output_type": "stream",
     "text": [
      "(10, 2)\n"
     ]
    },
    {
     "data": {
      "image/png": "[encoded data removed]",
      "text/plain": [
       "<Figure size 432x288 with 1 Axes>"
      ]
     },
     "metadata": {
      "tags": []
     },
     "output_type": "display_data"
    },
    {
     "name": "stdout",
     "output_type": "stream",
     "text": [
      "Standard weight for person with 163 is 55.77\n"
     ]
    }
   ],
   "source": [
    "from sklearn import datasets, linear_model # 引用 sklearn库，主要为了使用其中的线性回归模块\n",
    "\n",
    "# 创建数据集，把数据写入到numpy数组\n",
    "import numpy as np  # 引用numpy库，主要用来做科学计算\n",
    "import matplotlib.pyplot as plt   # 引用matplotlib库，主要用来画图\n",
    "data = np.array([[152,51],[156,53],[160,54],[164,55],\n",
    "                 [168,57],[172,60],[176,62],[180,65],\n",
    "                 [184,69],[188,72]])\n",
    "\n",
    "# 打印出数组的大小\n",
    "print(data.shape)\n",
    "# 这里的-1被理解为unspecified value，意思是未指定为给定的。如果我只需要特定的行数，列数多少我无所谓，我只需要指定行数，那么列数直接用-1代替就行了\n",
    "'''x必须reshape为2D数据否则报错，y可不必'''\n",
    "x,y = data[:,0].reshape(-1,1), data[:,1]\n",
    "\n",
    "# TODO 1. 实例化一个线性回归的模型\n",
    "regr = linear_model.LinearRegression()\n",
    "\n",
    "# TODO 2. 在x,y上训练一个线性回归模型。 如果训练顺利，则regr会存储训练完成之后的结果模型\n",
    "regr.fit(x, y)\n",
    "\n",
    "# TODO 3. 画出身高与体重之间的关系\n",
    "plt.scatter(x, y, color='red')\n",
    "\n",
    "# 画出已训练好的线条\n",
    "plt.plot(x, regr.predict(x), color='blue')\n",
    "\n",
    "# 画x,y轴的标题\n",
    "plt.xlabel('height (cm)')\n",
    "plt.ylabel('weight (kg)')\n",
    "plt.show() # 展示\n",
    "\n",
    "# 利用已经训练好的模型去预测身高为163的人的体重\n",
    "print (\"Standard weight for person with 163 is %.2f\"% regr.predict([[163]]))"
   ]
  },
  {
   "cell_type": "code",
   "execution_count": 0,
   "metadata": {
    "colab": {
     "base_uri": "https://localhost:8080/",
     "height": 34
    },
    "colab_type": "code",
    "id": "Ecauhhwpf3a-",
    "outputId": "59b47138-c567-45f4-f7e6-6d9930d1df15"
   },
   "outputs": [
    {
     "data": {
      "text/plain": [
       "array([152, 156, 160, 164, 168, 172, 176, 180, 184, 188])"
      ]
     },
     "execution_count": 6,
     "metadata": {
      "tags": []
     },
     "output_type": "execute_result"
    }
   ],
   "source": [
    "data[:,0]"
   ]
  },
  {
   "cell_type": "code",
   "execution_count": 0,
   "metadata": {
    "colab": {
     "base_uri": "https://localhost:8080/",
     "height": 185
    },
    "colab_type": "code",
    "id": "uHN6t5bCf4eg",
    "outputId": "c54b8b0f-0386-4cf9-f270-b0466c0477b3"
   },
   "outputs": [
    {
     "data": {
      "text/plain": [
       "array([[152],\n",
       "       [156],\n",
       "       [160],\n",
       "       [164],\n",
       "       [168],\n",
       "       [172],\n",
       "       [176],\n",
       "       [180],\n",
       "       [184],\n",
       "       [188]])"
      ]
     },
     "execution_count": 7,
     "metadata": {
      "tags": []
     },
     "output_type": "execute_result"
    }
   ],
   "source": [
    "data[:,0].reshape(-1,1)"
   ]
  },
  {
   "cell_type": "code",
   "execution_count": 0,
   "metadata": {
    "colab": {
     "base_uri": "https://localhost:8080/",
     "height": 34
    },
    "colab_type": "code",
    "id": "ij_Cc3oagFOj",
    "outputId": "11ac02f1-f770-4a8b-ecb4-21470010bdc5"
   },
   "outputs": [
    {
     "data": {
      "text/plain": [
       "array([51, 53, 54, 55, 57, 60, 62, 65, 69, 72])"
      ]
     },
     "execution_count": 8,
     "metadata": {
      "tags": []
     },
     "output_type": "execute_result"
    }
   ],
   "source": [
    "data[:,1]"
   ]
  }
 ],
 "metadata": {
  "colab": {
   "collapsed_sections": [],
   "name": "1.5 编写第一个AI程序(Linear Regression)",
   "provenance": []
  },
  "kernelspec": {
   "display_name": "Python 3",
   "language": "python",
   "name": "python3"
  },
  "language_info": {
   "codemirror_mode": {
    "name": "ipython",
    "version": 3
   },
   "file_extension": ".py",
   "mimetype": "text/x-python",
   "name": "python",
   "nbconvert_exporter": "python",
   "pygments_lexer": "ipython3",
   "version": "3.6.7"
  }
 },
 "nbformat": 4,
 "nbformat_minor": 1
}
