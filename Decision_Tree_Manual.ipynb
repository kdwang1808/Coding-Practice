{
 "nbformat": 4,
 "nbformat_minor": 2,
 "metadata": {
  "language_info": {
   "name": "python",
   "codemirror_mode": {
    "name": "ipython",
    "version": 3
   },
   "version": "3.6.7-final"
  },
  "orig_nbformat": 2,
  "file_extension": ".py",
  "mimetype": "text/x-python",
  "name": "python",
  "npconvert_exporter": "python",
  "pygments_lexer": "ipython3",
  "version": 3,
  "kernelspec": {
   "name": "python36764bittensorflowconda7b2aaa6a1c344b04982f99c98a94bf0c",
   "display_name": "Python 3.6.7 64-bit ('tensorflow': conda)"
  }
 },
 "cells": [
  {
   "cell_type": "code",
   "execution_count": 73,
   "metadata": {},
   "outputs": [],
   "source": [
    "import numpy as np\n",
    "import pandas as pd\n",
    "from sklearn.datasets import load_breast_cancer\n",
    "from sklearn.model_selection import train_test_split\n",
    "from sklearn.model_selection import KFold\n",
    "from sklearn.tree import DecisionTreeClassifier\n",
    "import matplotlib.pyplot as plt\n",
    "%matplotlib inline\n",
    "from collections import Counter\n",
    "import math\n",
    "from math import log\n",
    "import pprint"
   ]
  },
  {
   "cell_type": "code",
   "execution_count": 74,
   "metadata": {},
   "outputs": [
    {
     "name": "stdout",
     "output_type": "stream",
     "text": "(455, 30) (114, 30) (455,) (114,)\n"
    }
   ],
   "source": [
    "Cancer = load_breast_cancer()\n",
    "X = Cancer.data\n",
    "y = Cancer.target\n",
    "X_train, X_test, y_train, y_test = train_test_split(X, y, test_size=0.2, random_state=1)\n",
    "print(X_train.shape, X_test.shape, y_train.shape, y_test.shape)"
   ]
  },
  {
   "cell_type": "code",
   "execution_count": 75,
   "metadata": {},
   "outputs": [
    {
     "name": "stdout",
     "output_type": "stream",
     "text": "Accurary on training set: 1.000\nAccurary on testing set: 0.939\n"
    }
   ],
   "source": [
    "tree = DecisionTreeClassifier(random_state = 0)\n",
    "tree.fit(X_train, y_train)\n",
    "print(\"Accurary on training set: {:.3f}\".format(tree.score(X_train, y_train)))\n",
    "print(\"Accurary on testing set: {:.3f}\".format(tree.score(X_test, y_test)))"
   ]
  },
  {
   "cell_type": "code",
   "execution_count": 76,
   "metadata": {},
   "outputs": [],
   "source": [
    "Cancer = load_breast_cancer()\n",
    "X = Cancer.data\n",
    "y = Cancer.target\n",
    "kf = KFold(n_splits = 5, random_state = 2001, shuffle = True)\n",
    "for train_index, test_index in kf.split(X):\n",
    "     X_train, X_test = X[train_index], X[test_index]\n",
    "     y_train, y_test = y[train_index], y[test_index]"
   ]
  },
  {
   "cell_type": "code",
   "execution_count": 77,
   "metadata": {},
   "outputs": [
    {
     "name": "stdout",
     "output_type": "stream",
     "text": "Accurary on training set: 1.000\nAccurary on testing set: 0.938\n"
    }
   ],
   "source": [
    "tree = DecisionTreeClassifier(random_state = 0)\n",
    "tree.fit(X_train, y_train)\n",
    "print(\"Accurary on training set: {:.3f}\".format(tree.score(X_train, y_train)))\n",
    "print(\"Accurary on testing set: {:.3f}\".format(tree.score(X_test, y_test)))"
   ]
  },
  {
   "cell_type": "code",
   "execution_count": 78,
   "metadata": {},
   "outputs": [],
   "source": [
    "datasets = Cancer.data\n",
    "labels = Cancer.feature_names\n",
    "data_df = pd.DataFrame(datasets, columns=labels)\n",
    "y = pd.DataFrame(Cancer.target)\n",
    "df_cancer = pd.concat([data_df, y], axis=1)"
   ]
  },
  {
   "cell_type": "code",
   "execution_count": 79,
   "metadata": {},
   "outputs": [
    {
     "data": {
      "text/html": "<div>\n<style scoped>\n    .dataframe tbody tr th:only-of-type {\n        vertical-align: middle;\n    }\n\n    .dataframe tbody tr th {\n        vertical-align: top;\n    }\n\n    .dataframe thead th {\n        text-align: right;\n    }\n</style>\n<table border=\"1\" class=\"dataframe\">\n  <thead>\n    <tr style=\"text-align: right;\">\n      <th></th>\n      <th>mean radius</th>\n      <th>mean texture</th>\n      <th>mean perimeter</th>\n      <th>mean area</th>\n      <th>mean smoothness</th>\n      <th>mean compactness</th>\n      <th>mean concavity</th>\n      <th>mean concave points</th>\n      <th>mean symmetry</th>\n      <th>mean fractal dimension</th>\n      <th>...</th>\n      <th>worst texture</th>\n      <th>worst perimeter</th>\n      <th>worst area</th>\n      <th>worst smoothness</th>\n      <th>worst compactness</th>\n      <th>worst concavity</th>\n      <th>worst concave points</th>\n      <th>worst symmetry</th>\n      <th>worst fractal dimension</th>\n      <th>0</th>\n    </tr>\n  </thead>\n  <tbody>\n    <tr>\n      <td>0</td>\n      <td>17.99</td>\n      <td>10.38</td>\n      <td>122.80</td>\n      <td>1001.0</td>\n      <td>0.11840</td>\n      <td>0.27760</td>\n      <td>0.3001</td>\n      <td>0.14710</td>\n      <td>0.2419</td>\n      <td>0.07871</td>\n      <td>...</td>\n      <td>17.33</td>\n      <td>184.60</td>\n      <td>2019.0</td>\n      <td>0.1622</td>\n      <td>0.6656</td>\n      <td>0.7119</td>\n      <td>0.2654</td>\n      <td>0.4601</td>\n      <td>0.11890</td>\n      <td>0</td>\n    </tr>\n    <tr>\n      <td>1</td>\n      <td>20.57</td>\n      <td>17.77</td>\n      <td>132.90</td>\n      <td>1326.0</td>\n      <td>0.08474</td>\n      <td>0.07864</td>\n      <td>0.0869</td>\n      <td>0.07017</td>\n      <td>0.1812</td>\n      <td>0.05667</td>\n      <td>...</td>\n      <td>23.41</td>\n      <td>158.80</td>\n      <td>1956.0</td>\n      <td>0.1238</td>\n      <td>0.1866</td>\n      <td>0.2416</td>\n      <td>0.1860</td>\n      <td>0.2750</td>\n      <td>0.08902</td>\n      <td>0</td>\n    </tr>\n    <tr>\n      <td>2</td>\n      <td>19.69</td>\n      <td>21.25</td>\n      <td>130.00</td>\n      <td>1203.0</td>\n      <td>0.10960</td>\n      <td>0.15990</td>\n      <td>0.1974</td>\n      <td>0.12790</td>\n      <td>0.2069</td>\n      <td>0.05999</td>\n      <td>...</td>\n      <td>25.53</td>\n      <td>152.50</td>\n      <td>1709.0</td>\n      <td>0.1444</td>\n      <td>0.4245</td>\n      <td>0.4504</td>\n      <td>0.2430</td>\n      <td>0.3613</td>\n      <td>0.08758</td>\n      <td>0</td>\n    </tr>\n    <tr>\n      <td>3</td>\n      <td>11.42</td>\n      <td>20.38</td>\n      <td>77.58</td>\n      <td>386.1</td>\n      <td>0.14250</td>\n      <td>0.28390</td>\n      <td>0.2414</td>\n      <td>0.10520</td>\n      <td>0.2597</td>\n      <td>0.09744</td>\n      <td>...</td>\n      <td>26.50</td>\n      <td>98.87</td>\n      <td>567.7</td>\n      <td>0.2098</td>\n      <td>0.8663</td>\n      <td>0.6869</td>\n      <td>0.2575</td>\n      <td>0.6638</td>\n      <td>0.17300</td>\n      <td>0</td>\n    </tr>\n    <tr>\n      <td>4</td>\n      <td>20.29</td>\n      <td>14.34</td>\n      <td>135.10</td>\n      <td>1297.0</td>\n      <td>0.10030</td>\n      <td>0.13280</td>\n      <td>0.1980</td>\n      <td>0.10430</td>\n      <td>0.1809</td>\n      <td>0.05883</td>\n      <td>...</td>\n      <td>16.67</td>\n      <td>152.20</td>\n      <td>1575.0</td>\n      <td>0.1374</td>\n      <td>0.2050</td>\n      <td>0.4000</td>\n      <td>0.1625</td>\n      <td>0.2364</td>\n      <td>0.07678</td>\n      <td>0</td>\n    </tr>\n  </tbody>\n</table>\n<p>5 rows × 31 columns</p>\n</div>",
      "text/plain": "   mean radius  mean texture  mean perimeter  mean area  mean smoothness  \\\n0        17.99         10.38          122.80     1001.0          0.11840   \n1        20.57         17.77          132.90     1326.0          0.08474   \n2        19.69         21.25          130.00     1203.0          0.10960   \n3        11.42         20.38           77.58      386.1          0.14250   \n4        20.29         14.34          135.10     1297.0          0.10030   \n\n   mean compactness  mean concavity  mean concave points  mean symmetry  \\\n0           0.27760          0.3001              0.14710         0.2419   \n1           0.07864          0.0869              0.07017         0.1812   \n2           0.15990          0.1974              0.12790         0.2069   \n3           0.28390          0.2414              0.10520         0.2597   \n4           0.13280          0.1980              0.10430         0.1809   \n\n   mean fractal dimension  ...  worst texture  worst perimeter  worst area  \\\n0                 0.07871  ...          17.33           184.60      2019.0   \n1                 0.05667  ...          23.41           158.80      1956.0   \n2                 0.05999  ...          25.53           152.50      1709.0   \n3                 0.09744  ...          26.50            98.87       567.7   \n4                 0.05883  ...          16.67           152.20      1575.0   \n\n   worst smoothness  worst compactness  worst concavity  worst concave points  \\\n0            0.1622             0.6656           0.7119                0.2654   \n1            0.1238             0.1866           0.2416                0.1860   \n2            0.1444             0.4245           0.4504                0.2430   \n3            0.2098             0.8663           0.6869                0.2575   \n4            0.1374             0.2050           0.4000                0.1625   \n\n   worst symmetry  worst fractal dimension  0  \n0          0.4601                  0.11890  0  \n1          0.2750                  0.08902  0  \n2          0.3613                  0.08758  0  \n3          0.6638                  0.17300  0  \n4          0.2364                  0.07678  0  \n\n[5 rows x 31 columns]"
     },
     "execution_count": 79,
     "metadata": {},
     "output_type": "execute_result"
    }
   ],
   "source": [
    "df_cancer.head()"
   ]
  },
  {
   "cell_type": "code",
   "execution_count": 80,
   "metadata": {},
   "outputs": [],
   "source": [
    "class Node:\n",
    "    def __init__(self, root=True, label=None, feature_name=None, feature=None):\n",
    "        self.root = root\n",
    "        self.label = label\n",
    "        self.feature_name = feature_name\n",
    "        self.feature = feature\n",
    "        self.tree = {}\n",
    "        self.result = {\n",
    "            'label:': self.label,\n",
    "            'feature': self.feature,\n",
    "            'tree': self.tree\n",
    "        }\n",
    "\n",
    "    def __repr__(self):\n",
    "        return '{}'.format(self.result)\n",
    "\n",
    "    def add_node(self, val, node):\n",
    "        self.tree[val] = node\n",
    "\n",
    "    def predict(self, features):\n",
    "        if self.root is True:\n",
    "            return self.label\n",
    "        return self.tree[features[self.feature]].predict(features)\n",
    "\n",
    "\n",
    "class DTree:\n",
    "    def __init__(self, epsilon=0.1):\n",
    "        self.epsilon = epsilon\n",
    "        self._tree = {}\n",
    "\n",
    "    # 熵\n",
    "    @staticmethod\n",
    "    def calc_ent(datasets):\n",
    "        data_length = len(datasets)\n",
    "        label_count = {}\n",
    "        for i in range(data_length):\n",
    "            label = datasets[i][-1]\n",
    "            if label not in label_count:\n",
    "                label_count[label] = 0\n",
    "            label_count[label] += 1\n",
    "        ent = -sum([(p / data_length) * log(p / data_length, 2)\n",
    "                    for p in label_count.values()])\n",
    "        return ent\n",
    "\n",
    "    # 经验条件熵\n",
    "    def cond_ent(self, datasets, axis=0):\n",
    "        data_length = len(datasets)\n",
    "        feature_sets = {}\n",
    "        for i in range(data_length):\n",
    "            feature = datasets[i][axis]\n",
    "            if feature not in feature_sets:\n",
    "                feature_sets[feature] = []\n",
    "            feature_sets[feature].append(datasets[i])\n",
    "        cond_ent = sum([(len(p) / data_length) * self.calc_ent(p)\n",
    "                        for p in feature_sets.values()])\n",
    "        return cond_ent\n",
    "\n",
    "    # 信息增益\n",
    "    @staticmethod\n",
    "    def info_gain(ent, cond_ent):\n",
    "        return ent - cond_ent\n",
    "\n",
    "    def info_gain_train(self, datasets):\n",
    "        count = len(datasets[0]) - 1\n",
    "        ent = self.calc_ent(datasets)\n",
    "        best_feature = []\n",
    "        for c in range(count):\n",
    "            c_info_gain = self.info_gain(ent, self.cond_ent(datasets, axis=c))\n",
    "            best_feature.append((c, c_info_gain))\n",
    "        # 比较大小\n",
    "        best_ = max(best_feature, key=lambda x: x[-1])\n",
    "        return best_\n",
    "\n",
    "    def train(self, train_data):\n",
    "        \"\"\"\n",
    "        input:数据集D(DataFrame格式)，特征集A，阈值eta\n",
    "        output:决策树T\n",
    "        \"\"\"\n",
    "        _, y_train, features = train_data.iloc[:, :\n",
    "                                               -1], train_data.iloc[:,\n",
    "                                                                    -1], train_data.columns[:\n",
    "                                                                                            -1]\n",
    "        # 1,若D中实例属于同一类Ck，则T为单节点树，并将类Ck作为结点的类标记，返回T\n",
    "        if len(y_train.value_counts()) == 1:\n",
    "            return Node(root=True, label=y_train.iloc[0])\n",
    "\n",
    "        # 2, 若A为空，则T为单节点树，将D中实例树最大的类Ck作为该节点的类标记，返回T\n",
    "        if len(features) == 0:\n",
    "            return Node(\n",
    "                root=True,\n",
    "                label=y_train.value_counts().sort_values(\n",
    "                    ascending=False).index[0])\n",
    "\n",
    "        # 3,计算最大信息增益 同5.1,Ag为信息增益最大的特征\n",
    "        max_feature, max_info_gain = self.info_gain_train(np.array(train_data))\n",
    "        max_feature_name = features[max_feature]\n",
    "\n",
    "        # 4,Ag的信息增益小于阈值eta,则置T为单节点树，并将D中是实例数最大的类Ck作为该节点的类标记，返回T\n",
    "        if max_info_gain < self.epsilon:\n",
    "            return Node(\n",
    "                root=True,\n",
    "                label=y_train.value_counts().sort_values(\n",
    "                    ascending=False).index[0])\n",
    "\n",
    "        # 5,构建Ag子集\n",
    "        node_tree = Node(\n",
    "            root=False, feature_name=max_feature_name, feature=max_feature)\n",
    "\n",
    "        feature_list = train_data[max_feature_name].value_counts().index\n",
    "        for f in feature_list:\n",
    "            sub_train_df = train_data.loc[train_data[max_feature_name] ==\n",
    "                                          f].drop([max_feature_name], axis=1)\n",
    "\n",
    "            # 6, 递归生成树\n",
    "            sub_tree = self.train(sub_train_df)\n",
    "            node_tree.add_node(f, sub_tree)\n",
    "\n",
    "        # pprint.pprint(node_tree.tree)\n",
    "        return node_tree\n",
    "\n",
    "    def fit(self, train_data):\n",
    "        self._tree = self.train(train_data)\n",
    "        return self._tree\n",
    "\n",
    "    def predict(self, X_test):\n",
    "        return self._tree.predict(X_test)"
   ]
  },
  {
   "cell_type": "code",
   "execution_count": 84,
   "metadata": {},
   "outputs": [
    {
     "data": {
      "text/plain": "re': None, 'tree': {}}, 0.01899: {'label:': 1, 'feature': None, 'tree': {}}, 0.08271: {'label:': 0, 'feature': None, 'tree': {}}, 0.01404: {'label:': 1, 'feature': None, 'tree': {}}, 0.01115: {'label:': 1, 'feature': None, 'tree': {}}, 0.1021: {'label:': 0, 'feature': None, 'tree': {}}, 0.01921: {'label:': 1, 'feature': None, 'tree': {}}, 0.07507: {'label:': 0, 'feature': None, 'tree': {}}, 0.0218: {'label:': 1, 'feature': None, 'tree': {}}, 0.08923: {'label:': 0, 'feature': None, 'tree': {}}, 0.09113: {'label:': 0, 'feature': None, 'tree': {}}, 0.01117: {'label:': 1, 'feature': None, 'tree': {}}, 0.01257: {'label:': 1, 'feature': None, 'tree': {}}, 0.005592: {'label:': 1, 'feature': None, 'tree': {}}, 0.03731: {'label:': 1, 'feature': None, 'tree': {}}, 0.02623: {'label:': 1, 'feature': None, 'tree': {}}, 0.08353: {'label:': 0, 'feature': None, 'tree': {}}, 0.08543: {'label:': 0, 'feature': None, 'tree': {}}, 0.04391: {'label:': 1, 'feature': None, 'tree': {}}, 0.02008: {'label:': 1, 'feature': None, 'tree': {}}, 0.06987: {'label:': 1, 'feature': None, 'tree': {}}, 0.08941: {'label:': 0, 'feature': None, 'tree': {}}, 0.008488: {'label:': 1, 'feature': None, 'tree': {}}, 0.07593: {'label:': 0, 'feature': None, 'tree': {}}, 0.02098: {'label:': 1, 'feature': None, 'tree': {}}, 0.01917: {'label:': 1, 'feature': None, 'tree': {}}, 0.05074: {'label:': 1, 'feature': None, 'tree': {}}, 0.02416: {'label:': 1, 'feature': None, 'tree': {}}, 0.08815: {'label:': 0, 'feature': None, 'tree': {}}, 0.03003: {'label:': 1, 'feature': None, 'tree': {}}, 0.02944: {'label:': 1, 'feature': None, 'tree': {}}, 0.02424: {'label:': 1, 'feature': None, 'tree': {}}, 0.09601: {'label:': 0, 'feature': None, 'tree': {}}, 0.02822: {'label:': 1, 'feature': None, 'tree': {}}, 0.1244: {'label:': 0, 'feature': None, 'tree': {}}, 0.04563: {'label:': 1, 'feature': None, 'tree': {}}, 0.006423: {'label:': 1, 'feature': None, 'tree': {}}, 0.1118: {'label:': 0, 'feature': None, 'tree': {}}, 0.02293: {'label:': 1, 'feature': None, 'tree': {}}, 0.1054: {'label:': 0, 'feature': None, 'tree': {}}, 0.04223: {'label:': 1, 'feature': None, 'tree': {}}, 0.108: {'label:': 0, 'feature': None, 'tree': {}}, 0.0795: {'label:': 0, 'feature': None, 'tree': {}}, 0.008907: {'label:': 1, 'feature': None, 'tree': {}}, 0.02899: {'label:': 0, 'feature': None, 'tree': {}}, 0.004167: {'label:': 1, 'feature': None, 'tree': {}}, 0.08811: {'label:': 0, 'feature': None, 'tree': {}}, 0.03264: {'label:': 1, 'feature': None, 'tree': {}}, 0.1377: {'label:': 0, 'feature': None, 'tree': {}}, 0.02877: {'label:': 1, 'feature': None, 'tree': {}}, 0.06861: {'label:': 0, 'feature': None, 'tree': {}}, 0.08691: {'label:': 0, 'feature': None, 'tree': {}}, 0.04835: {'label:': 1, 'feature': None, 'tree': {}}, 0.02361: {'label:': 1, 'feature': None, 'tree': {}}, 0.08465: {'label:': 0, 'feature': None, 'tree': {}}, 0.02179: {'label:': 1, 'feature': None, 'tree': {}}, 0.01967: {'label:': 1, 'feature': None, 'tree': {}}, 0.02642: {'label:': 1, 'feature': None, 'tree': {}}, 0.05839: {'label:': 0, 'feature': None, 'tree': {}}, 0.05397: {'label:': 1, 'feature': None, 'tree': {}}, 0.1003: {'label:': 0, 'feature': None, 'tree': {}}, 0.01867: {'label:': 1, 'feature': None, 'tree': {}}, 0.0834: {'label:': 0, 'feature': None, 'tree': {}}, 0.01737: {'label:': 1, 'feature': None, 'tree': {}}, 0.0378: {'label:': 1, 'feature': None, 'tree': {}}, 0.0539: {'label:': 0, 'feature': None, 'tree': {}}, 0.1845: {'label:': 0, 'feature': None, 'tree': {}}, 0.06021: {'label:': 1, 'feature': None, 'tree': {}}, 0.106: {'label:': 0, 'feature': None, 'tree': {}}, 0.01162: {'label:': 1, 'feature': None, 'tree': {}}, 0.03711: {'label:': 1, 'feature': None, 'tree': {}}, 0.02315: {'label:': 1, 'feature': None, 'tree': {}}, 0.02344: {'label:': 1, 'feature': None, 'tree': {}}, 0.05102: {'label:': 1, 'feature': None, 'tree': {}}, 0.04528: {'label:': 1, 'feature': None, 'tree': {}}, 0.005769: {'label:': 1, 'feature': None, 'tree': {}}, 0.09702: {'label:': 0, 'feature': None, 'tree': {}}, 0.05613: {'label:': 0, 'feature': None, 'tree': {}}, 0.02854: {'label:': 1, 'feature': None, 'tree': {}}, 0.03078: {'label:': 1, 'feature': None, 'tree': {}}, 0.1389: {'label:': 0, 'feature': None, 'tree': {}}, 0.07953: {'label:': 0, 'feature': None, 'tree': {}}, 0.1155: {'label:': 0, 'feature': None, 'tree': {}}, 0.04178: {'label:': 1, 'feature': None, 'tree': {}}, 0.05364: {'label:': 0, 'feature': None, 'tree': {}}, 0.09961: {'label:': 0, 'feature': None, 'tree': {}}, 0.01781: {'label:': 1, 'feature': None, 'tree': {}}, 0.01313: {'label:': 1, 'feature': None, 'tree': {}}, 0.0555: {'label:': 1, 'feature': None, 'tree': {}}, 0.02037: {'label:': 1, 'feature': None, 'tree': {}}, 0.1913: {'label:': 0, 'feature': None, 'tree': {}}, 0.006434: {'label:': 1, 'feature': None, 'tree': {}}, 0.02307: {'label:': 0, 'feature': None, 'tree': {}}, 0.01504: {'label:': 1, 'feature': None, 'tree': {}}, 0.06759: {'label:': 0, 'feature': None, 'tree': {}}, 0.009259: {'label:': 1, 'feature': None, 'tree': {}}, 0.03515: {'label:': 0, 'feature': None, 'tree': {}}, 0.04268: {'label:': 1, 'feature': None, 'tree': {}}, 0.06254: {'label:': 0, 'feature': None, 'tree': {}}, 0.1198: {'label:': 0, 'feature': None, 'tree': {}}, 0.03384: {'label:': 1, 'feature': None, 'tree': {}}, 0.02749: {'label:': 1, 'feature': None, 'tree': {}}, 0.05564: {'label:': 1, 'feature': None, 'tree': {}}, 0.002924: {'label:': 1, 'feature': None, 'tree': {}}, 0.02704: {'label:': 0, 'feature': None, 'tree': {}}, 0.03716: {'label:': 1, 'feature': None, 'tree': {}}, 0.005159: {'label:': 1, 'feature': None, 'tree': {}}, 0.01261: {'label:': 1, 'feature': None, 'tree': {}}, 0.02799: {'label:': 1, 'feature': None, 'tree': {}}, 0.09667: {'label:': 0, 'feature': None, 'tree': {}}, 0.01861: {'label:': 1, 'feature': None, 'tree': {}}, 0.03528: {'label:': 1, 'feature': None, 'tree': {}}, 0.08751: {'label:': 0, 'feature': None, 'tree': {}}, 0.08632: {'label:': 0, 'feature': None, 'tree': {}}, 0.09756: {'label:': 0, 'feature': None, 'tree': {}}, 0.03099: {'label:': 1, 'feature': None, 'tree': {}}, 0.03613: {'label:': 1, 'feature': None, 'tree': {}}, 0.037: {'label:': 1, 'feature': None, 'tree': {}}, 0.06873: {'label:': 0, 'feature': None, 'tree': {}}, 0.02054: {'label:': 1, 'feature': None, 'tree': {}}, 0.05189: {'label:': 0, 'feature': None, 'tree': {}}, 0.0248: {'label:': 1, 'feature': None, 'tree': {}}, 0.04819: {'label:': 1, 'feature': None, 'tree': {}}, 0.001852: {'label:': 1, 'feature': None, 'tree': {}}, 0.0133: {'label:': 1, 'feature': None, 'tree': {}}, 0.008507: {'label:': 1, 'feature': None, 'tree': {}}, 0.03485: {'label:': 1, 'feature': None, 'tree': {}}, 0.09464: {'label:': 0, 'feature': None, 'tree': {}}, 0.03058: {'label:': 1, 'feature': None, 'tree': {}}, 0.1009: {'label:': 0, 'feature': None, 'tree': {}}, 0.1469: {'label:': 0, 'feature': None, 'tree': {}}, 0.0207: {'label:': 1, 'feature': None, 'tree': {}}, 0.09353: {'label:': 0, 'feature': None, 'tree': {}}, 0.01514: {'label:': 1, 'feature': None, 'tree': {}}, 0.0307: {'label:': 1, 'feature': None, 'tree': {}}, 0.1149: {'label:': 0, 'feature': None, 'tree': {}}, 0.02929: {'label:': 1, 'feature': None, 'tree': {}}, 0.09451: {'label:': 0, 'feature': None, 'tree': {}}, 0.02069: {'label:': 1, 'feature': None, 'tree': {}}, 0.01111: {'label:': 1, 'feature': None, 'tree': {}}, 0.00625: {'label:': 1, 'feature': None, 'tree': {}}, 0.01406: {'label:': 1, 'feature': None, 'tree': {}}, 0.007937: {'label:': 1, 'feature': None, 'tree': {}}, 0.1002: {'label:': 0, 'feature': None, 'tree': {}}, 0.08994: {'label:': 0, 'feature': None, 'tree': {}}, 0.0278: {'label:': 1, 'feature': None, 'tree': {}}, 0.05271: {'label:': 0, 'feature': None, 'tree': {}}, 0.08824: {'label:': 0, 'feature': None, 'tree': {}}, 0.03783: {'label:': 1, 'feature': None, 'tree': {}}, 0.01939: {'label:': 1, 'feature': None, 'tree': {}}, 0.1194: {'label:': 0, 'feature': None, 'tree': {}}, 0.08534: {'label:': 1, 'feature': None, 'tree': {}}, 0.01043: {'label:': 1, 'feature': None, 'tree': {}}, 0.0734: {'label:': 0, 'feature': None, 'tree': {}}, 0.063: {'label:': 1, 'feature': None, 'tree': {}}, 0.08624: {'label:': 0, 'feature': None, 'tree': {}}, 0.04812: {'label:': 1, 'feature': None, 'tree': {}}, 0.02563: {'label:': 1, 'feature': None, 'tree': {}}, 0.01329: {'label:': 1, 'feature': None, 'tree': {}}, 0.04846: {'label:': 1, 'feature': None, 'tree': {}}, 0.03263: {'label:': 0, 'feature': None, 'tree': {}}, 0.02925: {'label:': 1, 'feature': None, 'tree': {}}, 0.141: {'label:': 0, 'feature': None, 'tree': {}}, 0.0178: {'label:': 1, 'feature': None, 'tree': {}}, 0.02941: {'label:': 1, 'feature': None, 'tree': {}}, 0.01638: {'label:': 1, 'feature': None, 'tree': {}}, 0.08886: {'label:': 0, 'feature': None, 'tree': {}}, 0.08123: {'label:': 0, 'feature': None, 'tree': {}}, 0.02027: {'label:': 1, 'feature': None, 'tree': {}}, 0.009615: {'label:': 1, 'feature': None, 'tree': {}}, 0.02278: {'label:': 1, 'feature': None, 'tree': {}}, 0.01407: {'label:': 1, 'feature': None, 'tree': {}}, 0.1259: {'label:': 0, 'feature': None, 'tree': {}}, 0.08087: {'label:': 0, 'feature': None, 'tree': {}}, 0.01216: {'label:': 1, 'feature': None, 'tree': {}}, 0.007875: {'label:': 1, 'feature': None, 'tree': {}}, 0.1501: {'label:': 0, 'feature': None, 'tree': {}}, 0.03326: {'label:': 1, 'feature': None, 'tree': {}}, 0.08683: {'label:': 0, 'feature': None, 'tree': {}}, 0.09063: {'label:': 0, 'feature': None, 'tree': {}}, 0.02867: {'label:': 1, 'feature': None, 'tree': {}}, 0.08795: {'label:': 0, 'feature': None, 'tree': {}}, 0.0339: {'label:': 1, 'feature': None, 'tree': {}}, 0.1562: {'label:': 0, 'feature': None, 'tree': {}}, 0.08293: {'label:': 0, 'feature': None, 'tree': {}}, 0.01863: {'label:': 1, 'feature': None, 'tree': {}}, 0.07798: {'label:': 1, 'feature': None, 'tree': {}}, 0.01369: {'label:': 1, 'feature': None, 'tree': {}}, 0.01527: {'label:': 1, 'feature': None, 'tree': {}}, 0.01148: {'label:': 1, 'feature': None, 'tree': {}}, 0.08399: {'label:': 0, 'feature': None, 'tree': {}}, 0.06158: {'label:': 0, 'feature': None, 'tree': {}}, 0.05985: {'label:': 0, 'feature': None, 'tree': {}}, 0.005128: {'label:': 1, 'feature': None, 'tree': {}}, 0.02443: {'label:': 1, 'feature': None, 'tree': {}}, 0.034: {'label:': 1, 'feature': None, 'tree': {}}, 0.09664: {'label:': 0, 'feature': None, 'tree': {}}, 0.02788: {'label:': 1, 'feature': None, 'tree': {}}, 0.026: {'label:': 1, 'feature': None, 'tree': {}}, 0.03132: {'label:': 1, 'feature': None, 'tree': {}}, 0.005664: {'label:': 1, 'feature': None, 'tree': {}}, 0.1595: {'label:': 0, 'feature': None, 'tree': {}}, 0.05303: {'label:': 1, 'feature': None, 'tree': {}}, 0.01787: {'label:': 1, 'feature': None, 'tree': {}}, 0.03323: {'label:': 0, 'feature': None, 'tree': {}}, 0.01171: {'label:': 1, 'feature': None, 'tree': {}}, 0.08866: {'label:': 0, 'feature': None, 'tree': {}}, 0.0295: {'label:': 1, 'feature': None, 'tree': {}}, 0.05596: {'label:': 0, 'feature': None, 'tree': {}}, 0.0917: {'label:': 0, 'feature': None, 'tree': {}}, 0.1028: {'label:': 0, 'feature': None, 'tree': {}}, 0.09029: {'label:': 0, 'feature': None, 'tree': {}}, 0.02837: {'label:': 0, 'feature': None, 'tree': {}}, 0.04408: {'label:': 1, 'feature': None, 'tree': {}}, 0.03088: {'label:': 1, 'feature': None, 'tree': {}}, 0.06637: {'label:': 0, 'feature': None, 'tree': {}}, 0.06367: {'label:': 0, 'feature': None, 'tree': {}}, 0.08025: {'label:': 0, 'feature': None, 'tree': {}}, 0.152: {'label:': 0, 'feature': None, 'tree': {}}, 0.02653: {'label:': 1, 'feature': None, 'tree': {}}, 0.03341: {'label:': 1, 'feature': None, 'tree': {}}, 0.05532: {'label:': 1, 'feature': None, 'tree': {}}, 0.01796: {'label:': 1, 'feature': None, 'tree': {}}, 0.2012: {'label:': 0, 'feature': None, 'tree': {}}, 0.01201: {'label:': 1, 'feature': None, 'tree': {}}, 0.04489: {'label:': 0, 'feature': None, 'tree': {}}, 0.02343: {'label:': 1, 'feature': None, 'tree': {}}, 0.003472: {'label:': 1, 'feature': None, 'tree': {}}, 0.02995: {'label:': 1, 'feature': None, 'tree': {}}, 0.02739: {'label:': 0, 'feature': None, 'tree': {}}, 0.04451: {'label:': 1, 'feature': None, 'tree': {}}, 0.02438: {'label:': 1, 'feature': None, 'tree': {}}, 0.1103: {'label:': 0, 'feature': None, 'tree': {}}, 0.02791: {'label:': 1, 'feature': None, 'tree': {}}, 0.06618: {'label:': 0, 'feature': None, 'tree': {}}, 0.03821: {'label:': 1, 'feature': None, 'tree': {}}, 0.1144: {'label:': 0, 'feature': None, 'tree': {}}, 0.0228: {'label:': 1, 'feature': None, 'tree': {}}, 0.02957: {'label:': 1, 'feature': None, 'tree': {}}, 0.1322: {'label:': 0, 'feature': None, 'tree': {}}, 0.01778: {'label:': 1, 'feature': None, 'tree': {}}, 0.02763: {'label:': 1, 'feature': None, 'tree': {}}, 0.02107: {'label:': 1, 'feature': None, 'tree': {}}, 0.09333: {'label:': 0, 'feature': None, 'tree': {}}, 0.05302: {'label:': 0, 'feature': None, 'tree': {}}, 0.09176: {'label:': 0, 'feature': None, 'tree': {}}, 0.07064: {'label:': 1, 'feature': None, 'tree': {}}, 0.05943: {'label:': 0, 'feature': None, 'tree': {}}, 0.02471: {'label:': 1, 'feature': None, 'tree': {}}, 0.06527: {'label:': 0, 'feature': None, 'tree': {}}, 0.07981: {'label:': 0, 'feature': None, 'tree': {}}, 0.01141: {'label:': 1, 'feature': None, 'tree': {}}, 0.02142: {'label:': 1, 'feature': None, 'tree': {}}, 0.01915: {'label:': 1, 'feature': None, 'tree': {}}, 0.02932: {'label:': 1, 'feature': None, 'tree': {}}, 0.02218: {'label:': 1, 'feature': None, 'tree': {}}, 0.08646: {'label:': 0, 'feature': None, 'tree': {}}, 0.03221: {'label:': 1, 'feature': None, 'tree': {}}, 0.02157: {'label:': 1, 'feature': None, 'tree': {}}, 0.09498: {'label:': 0, 'feature': None, 'tree': {}}, 0.01698: {'label:': 1, 'feature': None, 'tree': {}}, 0.09934: {'label:': 0, 'feature': None, 'tree': {}}, 0.04603: {'label:': 1, 'feature': None, 'tree': {}}, 0.08653: {'label:': 0, 'feature': None, 'tree': {}}, 0.02386: {'label:': 1, 'feature': None, 'tree': {}}, 0.07483: {'label:': 0, 'feature': None, 'tree': {}}, 0.1015: {'label:': 0, 'feature': None, 'tree': {}}, 0.02648: {'label:': 1, 'feature': None, 'tree': {}}, 0.04079: {'label:': 0, 'feature': None, 'tree': {}}, 0.02074: {'label:': 1, 'feature': None, 'tree': {}}, 0.02875: {'label:': 1, 'feature': None, 'tree': {}}, 0.007799: {'label:': 1, 'feature': None, 'tree': {}}, 0.08089: {'label:': 0, 'feature': None, 'tree': {}}, 0.06576: {'label:': 0, 'feature': None, 'tree': {}}, 0.03745: {'label:': 1, 'feature': None, 'tree': {}}, 0.0389: {'label:': 1, 'feature': None, 'tree': {}}, 0.03334: {'label:': 0, 'feature': None, 'tree': {}}, 0.01762: {'label:': 1, 'feature': None, 'tree': {}}, 0.01428: {'label:': 1, 'feature': None, 'tree': {}}, 0.01076: {'label:': 1, 'feature': None, 'tree': {}}, 0.01364: {'label:': 1, 'feature': None, 'tree': {}}, 0.109: {'label:': 0, 'feature': None, 'tree': {}}, 0.04083: {'label:': 1, 'feature': None, 'tree': {}}, 0.01238: {'label:': 1, 'feature': None, 'tree': {}}, 0.02173: {'label:': 1, 'feature': None, 'tree': {}}, 0.02978: {'label:': 1, 'feature': None, 'tree': {}}, 0.04744: {'label:': 0, 'feature': None, 'tree': {}}, 0.01835: {'label:': 1, 'feature': None, 'tree': {}}, 0.02657: {'label:': 1, 'feature': None, 'tree': {}}, 0.1401: {'label:': 0, 'feature': None, 'tree': {}}, 0.07762: {'label:': 0, 'feature': None, 'tree': {}}, 0.01775: {'label:': 1, 'feature': None, 'tree': {}}, 0.1203: {'label:': 0, 'feature': None, 'tree': {}}, 0.02652: {'label:': 1, 'feature': None, 'tree': {}}, 0.1496: {'label:': 0, 'feature': None, 'tree': {}}, 0.0129: {'label:': 1, 'feature': None, 'tree': {}}, 0.02847: {'label:': 0, 'feature': None, 'tree': {}}, 0.08773: {'label:': 0, 'feature': None, 'tree': {}}, 0.07752: {'label:': 0, 'feature': None, 'tree': {}}, 0.01471: {'label:': 1, 'feature': None, 'tree': {}}, 0.02639: {'label:': 1, 'feature': None, 'tree': {}}, 0.03781: {'label:': 1, 'feature': None, 'tree': {}}, 0.0444: {'label:': 1, 'feature': None, 'tree': {}}, 0.0239: {'label:': 1, 'feature': None, 'tree': {}}, 0.03157: {'label:': 1, 'feature': None, 'tree': {}}, 0.01969: {'label:': 1, 'feature': None, 'tree': {}}, 0.01256: {'label:': 1, 'feature': None, 'tree': {}}, 0.05933: {'label:': 1, 'feature': None, 'tree': {}}, 0.1052: {'label:': 0, 'feature': None, 'tree': {}}, 0.05603: {'label:': 1, 'feature': None, 'tree': {}}, 0.08744: {'label:': 0, 'feature': None, 'tree': {}}, 0.1088: {'label:': 0, 'feature': None, 'tree': {}}, 0.06638: {'label:': 0, 'feature': None, 'tree': {}}, 0.05182: {'label:': 0, 'feature': None, 'tree': {}}, 0.01877: {'label:': 1, 'feature': None, 'tree': {}}, 0.06526: {'label:': 0, 'feature': None, 'tree': {}}, 0.09561: {'label:': 0, 'feature': None, 'tree': {}}, 0.01699: {'label:': 1, 'feature': None, 'tree': {}}, 0.01473: {'label:': 1, 'feature': None, 'tree': {}}, 0.04531: {'label:': 1, 'feature': None, 'tree': {}}, 0.02833: {'label:': 1, 'feature': None, 'tree': {}}, 0.03483: {'label:': 1, 'feature': None, 'tree': {}}, 0.06602: {'label:': 1, 'feature': None, 'tree': {}}, 0.02331: {'label:': 1, 'feature': None, 'tree': {}}, 0.04107: {'label:': 1, 'feature': None, 'tree': {}}, 0.02923: {'label:': 1, 'feature': None, 'tree': {}}, 0.07404: {'label:': 1, 'feature': None, 'tree': {}}, 0.06556: {'label:': 1, 'feature': None, 'tree': {}}, 0.01339: {'label:': 1, 'feature': None, 'tree': {}}, 0.01393: {'label:': 1, 'feature': None, 'tree': {}}, 0.0974: {'label:': 0, 'feature': None, 'tree': {}}, 0.02308: {'label:': 1, 'feature': None, 'tree': {}}, 0.08783: {'label:': 0, 'feature': None, 'tree': {}}, 0.02036: {'label:': 1, 'feature': None, 'tree': {}}, 0.004419: {'label:': 1, 'feature': None, 'tree': {}}, 0.01654: {'label:': 1, 'feature': None, 'tree': {}}, 0.07726: {'label:': 0, 'feature': None, 'tree': {}}, 0.0188: {'label:': 1, 'feature': None, 'tree': {}}, 0.008535: {'label:': 1, 'feature': None, 'tree': {}}, 0.02733: {'label:': 1, 'feature': None, 'tree': {}}, 0.04349: {'label:': 1, 'feature': None, 'tree': {}}, 0.03876: {'label:': 1, 'feature': None, 'tree': {}}, 0.01692: {'label:': 1, 'feature': None, 'tree': {}}, 0.03239: {'label:': 1, 'feature': None, 'tree': {}}, 0.03068: {'label:': 1, 'feature': None, 'tree': {}}, 0.0609: {'label:': 0, 'feature': None, 'tree': {}}, 0.03142: {'label:': 1, 'feature': None, 'tree': {}}, 0.06615: {'label:': 1, 'feature': None, 'tree': {}}, 0.05602: {'label:': 0, 'feature': None, 'tree': {}}, 0.0335: {'label:': 1, 'feature': None, 'tree': {}}, 0.02757: {'label:': 1, 'feature': None, 'tree': {}}, 0.01952: {'label:': 1, 'feature': None, 'tree': {}}, 0.1823: {'label:': 0, 'feature': None, 'tree': {}}, 0.007246: {'label:': 1, 'feature': None, 'tree': {}}, 0.04304: {'label:': 1, 'feature': None, 'tree': {}}, 0.01883: {'label:': 1, 'feature': None, 'tree': {}}, 0.0316: {'label:': 1, 'feature': None, 'tree': {}}, 0.0287: {'label:': 1, 'feature': None, 'tree': {}}, 0.01071: {'label:': 1, 'feature': None, 'tree': {}}, 0.05627: {'label:': 0, 'feature': None, 'tree': {}}, 0.028: {'label:': 1, 'feature': None, 'tree': {}}, 0.02017: {'label:': 1, 'feature': None, 'tree': {}}, 0.01374: {'label:': 1, 'feature': None, 'tree': {}}, 0.07415: {'label:': 0, 'feature': None, 'tree': {}}, 0.05246: {'label:': 0, 'feature': None, 'tree': {}}, 0.002941: {'label:': 1, 'feature': None, 'tree': {}}, 0.09183: {'label:': 0, 'feature': None, 'tree': {}}, 0.009937: {'label:': 1, 'feature': None, 'tree': {}}, 0.07785: {'label:': 0, 'feature': None, 'tree': {}}, 0.128: {'label:': 0, 'feature': None, 'tree': {}}, 0.02402: {'label:': 1, 'feature': None, 'tree': {}}, 0.0337: {'label:': 1, 'feature': None, 'tree': {}}, 0.07857: {'label:': 1, 'feature': None, 'tree': {}}, 0.06772: {'label:': 0, 'feature': None, 'tree': {}}, 0.02421: {'label:': 1, 'feature': None, 'tree': {}}, 0.02257: {'label:': 1, 'feature': None, 'tree': {}}, 0.02322: {'label:': 1, 'feature': None, 'tree': {}}, 0.05381: {'label:': 1, 'feature': None, 'tree': {}}, 0.05843: {'label:': 0, 'feature': None, 'tree': {}}}}"
     },
     "execution_count": 84,
     "metadata": {},
     "output_type": "execute_result"
    }
   ],
   "source": [
    "dt = DTree()\n",
    "tree = dt.fit(df_cancer)\n",
    "tree"
   ]
  },
  {
   "cell_type": "code",
   "execution_count": null,
   "metadata": {},
   "outputs": [],
   "source": []
  }
 ]
}